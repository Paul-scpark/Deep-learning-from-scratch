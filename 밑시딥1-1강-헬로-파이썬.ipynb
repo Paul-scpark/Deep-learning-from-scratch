{
 "cells": [
  {
   "cell_type": "markdown",
   "id": "8a916596",
   "metadata": {},
   "source": [
    "# <font color=red>밑바닥부터 시작하는 딥러닝 1 - 한빛미디어, 사이토 고키</font>\n",
    "\n",
    "### Contents (Chapter)\n",
    "\n",
    "1. **`헬로 파이썬 - 파이썬 기초 문법 소개, numpy, matplotlib`**\n",
    "2. 퍼셉트론 - AND, NAND, OR 게이트\n",
    "3. 신경망 - 활성화 함수, 다차원 배열 계산, 출력층 설계, MNIST\n",
    "4. 신경망 학습 - 손실 함수, 경사 하강법\n",
    "5. 오차역전파법 - 역전파, 활성화 함수 구현\n",
    "6. 학습 관련 기술들 - 매개변수 갱신, 배치 정규화, 하이퍼파라미터 값 찾기\n",
    "7. 합성곱 신경망 (CNN) - 합성곱 계층, 풀링 계층, CNN 구현\n",
    "8. 딥러닝 - 초기 역사, 딥러닝 활용\n",
    "9. Appendix - Softmax with loss 계층의 계산 그래프\n",
    "\n",
    "### 참고 자료\n",
    "\n",
    "- [책 소개 링크](http://www.yes24.com/Product/Goods/34970929)\n",
    "- [책 깃헙 링크](https://github.com/WegraLee/deep-learning-from-scratch)"
   ]
  },
  {
   "cell_type": "markdown",
   "id": "f87b9411",
   "metadata": {},
   "source": [
    "---"
   ]
  },
  {
   "cell_type": "markdown",
   "id": "d7fd22f8",
   "metadata": {},
   "source": [
    "## <font color=orange>Chapter 1. 헬로 파이썬</font>"
   ]
  },
  {
   "cell_type": "markdown",
   "id": "19246bcf",
   "metadata": {},
   "source": [
    "### 1.1 파이썬이란?\n",
    "\n",
    "- 파이썬은 간단하고 배우기 쉬운 프로그래밍 언어\n",
    "- 오픈소스로 무료로 자유롭게 사용 가능\n",
    "- 영어와 유사한 문법으로 프로그램 작성 가능\n",
    "- 불편한 컴파일 과정이 따로 필요 없음\n",
    "- 기계학습 같은 데이터 과학 분야에 널리 사용되고 있음\n",
    "\n",
    "### 1.2 파이썬 설치하기\n",
    "\n",
    "- [파이썬 설치 링크](https://www.python.org/)\n",
    "- [아나콘다 설치 링크](https://www.anaconda.com/products/distribution)\n",
    "\n",
    "### 1.3 파이썬 인터프리터\n",
    "\n",
    "- 산술 연산 (덧셈, 뺄셈, 나눗셈, 곱셈 등)\n",
    "- 자료형 (int, float, str 등)\n",
    "- 변수\n",
    "    - 파이썬은 **동적 언어**로 분류\n",
    "    - 동적이라는 것은 변수의 자료형을 상황에 맞게 자동으로 결정하는 것\n",
    "    - 자동 형변환\n",
    "- 리스트 (indexing, slicing)\n",
    "- 딕셔너리 (key & value)\n",
    "- bool (True & False)\n",
    "- if/else 문\n",
    "- for, while 문\n",
    "- 함수\n",
    "\n",
    "### 1.4 파이썬 스크립트 파일\n",
    "\n",
    "- 클래스 (생성자 - init)\n",
    "- 인스턴스 변수"
   ]
  },
  {
   "cell_type": "code",
   "execution_count": 1,
   "id": "2a763c7d",
   "metadata": {},
   "outputs": [
    {
     "name": "stdout",
     "output_type": "stream",
     "text": [
      "Initialized!\n",
      "Hello David!\n",
      "Good-bye David!\n"
     ]
    }
   ],
   "source": [
    "class Man:\n",
    "    def __init__(self, name):\n",
    "        self.name = name\n",
    "        print(\"Initialized!\")\n",
    "    \n",
    "    def hello(self):\n",
    "        print(\"Hello \" + self.name + \"!\")\n",
    "    \n",
    "    def goodbye(self):\n",
    "        print(\"Good-bye \" + self.name + \"!\")\n",
    "        \n",
    "m = Man(\"David\")\n",
    "m.hello()\n",
    "m.goodbye()"
   ]
  },
  {
   "cell_type": "markdown",
   "id": "945f1840",
   "metadata": {},
   "source": [
    "### 1.5 넘파이\n",
    "\n",
    "- [numpy 패키지 공식 Documentation](https://numpy.org/doc/)\n",
    "- 배열이나 행렬 계산에 용이한 numpy 패키지\n",
    "- numpy 패키지 불러오기 - `import numpy as np`\n",
    "- 배열 생성, 산술 연산, 브로드캐스트\n",
    "\n",
    "### 1.6 matplotlib\n",
    "\n",
    "- [matplotlib 패키지 공식 Documentation](https://matplotlib.org/stable/index.html)\n",
    "- 시각화에 용이한 matplotlib 패키지\n",
    "\n",
    "### 1.7 정리\n",
    "\n",
    "- 파이썬 소개\n",
    "- 딥러닝 (신경망)을 구현하는데 필요한 프로그래밍 기본 학습"
   ]
  }
 ],
 "metadata": {
  "kernelspec": {
   "display_name": "Python 3 (ipykernel)",
   "language": "python",
   "name": "python3"
  },
  "language_info": {
   "codemirror_mode": {
    "name": "ipython",
    "version": 3
   },
   "file_extension": ".py",
   "mimetype": "text/x-python",
   "name": "python",
   "nbconvert_exporter": "python",
   "pygments_lexer": "ipython3",
   "version": "3.9.1"
  }
 },
 "nbformat": 4,
 "nbformat_minor": 5
}
